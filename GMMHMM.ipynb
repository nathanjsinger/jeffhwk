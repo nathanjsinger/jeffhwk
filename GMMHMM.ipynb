{
 "cells": [
  {
   "cell_type": "markdown",
   "metadata": {},
   "source": [
    "## GMMHMM Speech Recognition\n",
    "\n",
    "Nathan Singer"
   ]
  },
  {
   "cell_type": "code",
   "execution_count": 24,
   "metadata": {
    "collapsed": false
   },
   "outputs": [],
   "source": [
    "import MFCC\n",
    "import gmmhmm\n",
    "import numpy as np\n",
    "from matplotlib import pyplot as plt\n",
    "import scipy.io.wavfile"
   ]
  },
  {
   "cell_type": "code",
   "execution_count": 35,
   "metadata": {
    "collapsed": false
   },
   "outputs": [
    {
     "name": "stdout",
     "output_type": "stream",
     "text": [
      "[ 13.27871474 -32.46329764  -0.40483425]\n"
     ]
    },
    {
     "data": {
      "text/plain": [
       "(0, array([30,  0]))"
      ]
     },
     "execution_count": 35,
     "metadata": {},
     "output_type": "execute_result"
    }
   ],
   "source": [
    " def sample_gmmhmm(gmmhmm, n_sim = 30):\n",
    "    A = np.array([[.65, .35], [.15, .85]])\n",
    "    pi = np.array([.8, .2])\n",
    "    weights = np.array([[.7, .2, .1], [.1, .5, .4]])\n",
    "    means1 = np.array([[0., 17., -4.], [5., -12., -8.], [-16., 22., 2.]])\n",
    "    means2 = np.array([[-5., 3., 23.], [-12., -2., 14.], [15., -32., 0.]])\n",
    "    means = np.array([means1, means2])\n",
    "    covars1 = np.array([5*np.eye(3), 7*np.eye(3), np.eye(3)])\n",
    "    covars2 = np.array([10*np.eye(3), 3*np.eye(3), 4*np.eye(3)])\n",
    "    covars = np.array([covars1, covars2])\n",
    "    gmmhmm = [A, weights, means, covars, pi]\n",
    "    \n",
    "    sample_component = np.argmax(np.random.multinomial(1, weights[1,:]))\n",
    "    sample = np.random.multivariate_normal(means[1, sample_component, :], covars[1, sample_component, :, :])\n",
    "    \n",
    "    #print sample\n",
    "    \n",
    "    K = 0\n",
    "    obs = np.array([n_sim, K])\n",
    "    \n",
    "    states = 0\n",
    "    \n",
    "    return states, obs\n",
    "\n",
    "#sample_gmmhmm(gmmhmm)"
   ]
  },
  {
   "cell_type": "code",
   "execution_count": 30,
   "metadata": {
    "collapsed": false
   },
   "outputs": [],
   "source": [
    "\n",
    "def problem2():\n",
    "    A = np.array([[.65, .35], [.15, .85]])\n",
    "    pi = np.array([.8, .2])\n",
    "    weights = np.array([[.7, .2, .1], [.1, .5, .4]])\n",
    "    means1 = np.array([[0., 17., -4.], [5., -12., -8.], [-16., 22., 2.]])\n",
    "    means2 = np.array([[-5., 3., 23.], [-12., -2., 14.], [15., -32., 0.]])\n",
    "    means = np.array([means1, means2])\n",
    "    covars1 = np.array([5*np.eye(3), 7*np.eye(3), np.eye(3)])\n",
    "    covars2 = np.array([10*np.eye(3), 3*np.eye(3), 4*np.eye(3)])\n",
    "    covars = np.array([covars1, covars2])\n",
    "    gmmhmm = [A, weights, means, covars, pi]\n",
    "    sample_component = np.argmax(np.random.multinomial(1, weights[1,:]))\n",
    "    sample = np.random.multivariate_normal(means[1, sample_component, :], covars[1, sample_component, :, :])\n",
    "    mfccs = MFCC.extract(sample)\n",
    "    print mfccs\n",
    "    \n",
    "#problem2()"
   ]
  },
  {
   "cell_type": "code",
   "execution_count": 36,
   "metadata": {
    "collapsed": true
   },
   "outputs": [],
   "source": [
    "def problem3():\n",
    "    startprob, transmat = initialize(5)\n",
    "    model = gmmhmm.GMMHMM(n_components=5, n_mix=3, transmat=transmat, startprob= -startprob, cvtype='diag')\n",
    "    # these values for covars_prior and var should work well for this problem >>> model.covars_prior = 0.01\n",
    "    model.fit(samples, init_params='mc', var=0.1)\n",
    "    print model.logprob\n",
    "    "
   ]
  },
  {
   "cell_type": "code",
   "execution_count": null,
   "metadata": {
    "collapsed": true
   },
   "outputs": [],
   "source": [
    "def problem4():\n",
    "    score = model.score(obs)"
   ]
  }
 ],
 "metadata": {
  "kernelspec": {
   "display_name": "Python 2",
   "language": "python",
   "name": "python2"
  },
  "language_info": {
   "codemirror_mode": {
    "name": "ipython",
    "version": 2
   },
   "file_extension": ".py",
   "mimetype": "text/x-python",
   "name": "python",
   "nbconvert_exporter": "python",
   "pygments_lexer": "ipython2",
   "version": "2.7.10"
  }
 },
 "nbformat": 4,
 "nbformat_minor": 0
}
