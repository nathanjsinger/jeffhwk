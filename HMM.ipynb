{
 "cells": [
  {
   "cell_type": "markdown",
   "metadata": {
    "collapsed": false
   },
   "source": [
    "# Nathan Singer"
   ]
  },
  {
   "cell_type": "code",
   "execution_count": 1,
   "metadata": {
    "collapsed": true
   },
   "outputs": [],
   "source": [
    "import numpy as np\n",
    "import itertools as it"
   ]
  },
  {
   "cell_type": "markdown",
   "metadata": {},
   "source": [
    "We define A,B,Ob, and pi."
   ]
  },
  {
   "cell_type": "code",
   "execution_count": 2,
   "metadata": {
    "collapsed": false
   },
   "outputs": [],
   "source": [
    "A = np.array([[.7, .3], [.4, .6]])\n",
    "A = A.T\n",
    "B = np.array([[.1, .4, .5], [.7, .2, .1]])\n",
    "B = B.T\n",
    "Ob = np.array([1, 0, 2])\n",
    "pi = np.array([0., 1.])"
   ]
  },
  {
   "cell_type": "markdown",
   "metadata": {},
   "source": [
    "Prob 1 a) Naive Implementation"
   ]
  },
  {
   "cell_type": "code",
   "execution_count": 3,
   "metadata": {
    "collapsed": false
   },
   "outputs": [
    {
     "data": {
      "text/plain": [
       "([((0, 0, 0), 0.0),\n",
       "  ((0, 0, 1), 0.0),\n",
       "  ((0, 1, 0), 0.0),\n",
       "  ((0, 1, 1), 0.0),\n",
       "  ((1, 0, 0), 0.0028000000000000004),\n",
       "  ((1, 0, 1), 0.00024000000000000006),\n",
       "  ((1, 1, 0), 0.016800000000000002),\n",
       "  ((1, 1, 1), 0.0050400000000000002)],\n",
       " 0.024880000000000003)"
      ]
     },
     "execution_count": 3,
     "metadata": {},
     "output_type": "execute_result"
    }
   ],
   "source": [
    "def initial(A, B, pi, Ob):\n",
    "    T = len(Ob)\n",
    "    N = np.shape(A)[0]\n",
    "    output = []\n",
    "    total = 0\n",
    "    \n",
    "    for i in it.product(xrange(N), repeat = T):\n",
    "            probability = pi[i[0]] * B[Ob[0], i[0]]\n",
    "            \n",
    "            for j in xrange(1, T):\n",
    "                probability *= A[i[j], i[j - 1]] * B[Ob[j], i[j]]\n",
    "            total += probability\n",
    "            output.append((i, probability))\n",
    "        \n",
    "    return output, total\n",
    "\n",
    "initial(A, B, pi, Ob)"
   ]
  },
  {
   "cell_type": "markdown",
   "metadata": {},
   "source": [
    "Prob 1 b) is the 'Alpha Pass'. "
   ]
  },
  {
   "cell_type": "code",
   "execution_count": 4,
   "metadata": {
    "collapsed": false
   },
   "outputs": [
    {
     "name": "stdout",
     "output_type": "stream",
     "text": [
      "Alpha pass (array([ 0.0196 ,  0.00528]), [array([ 0. ,  0.2]), array([ 0.008,  0.084]), array([ 0.0196 ,  0.00528])])\n",
      "Beta pass (array([ 0.0812,  0.1244]), [array([ 1.,  1.]), array([ 0.38,  0.26]), array([ 0.0812,  0.1244])])\n"
     ]
    }
   ],
   "source": [
    "def alpha_pass(A, B, pi, Ob, return_all = False):\n",
    "    if return_all:\n",
    "        alpha_list = []\n",
    "    \n",
    "    for t in xrange(len(Ob)):\n",
    "        j = int(Ob[t])\n",
    "       \n",
    "        if t == 0:\n",
    "            alpha = pi * B[j, :]\n",
    "        else:\n",
    "            alpha = A.dot(alpha) * B[j, :]\n",
    "            \n",
    "        if return_all:\n",
    "            alpha_list.append(alpha)\n",
    "        \n",
    "    if return_all:\n",
    "        return alpha, alpha_list\n",
    "    else:\n",
    "        return alpha\n",
    "    \n",
    "def beta_pass(A, B, pi, Ob, return_all = False):\n",
    "    if return_all:\n",
    "        beta_list = []\n",
    "        \n",
    "    for t in xrange(len(Ob)):\n",
    "        j = int(Ob[-t])\n",
    "        \n",
    "        if t == 0:\n",
    "            beta = np.ones_like(pi)\n",
    "        else:\n",
    "            beta = A.T.dot(beta * B[j, :])\n",
    "            \n",
    "        if return_all:\n",
    "            beta_list.append(beta)\n",
    "    \n",
    "    if return_all:\n",
    "        return beta, beta_list\n",
    "    else:\n",
    "        return beta   \n",
    "\n",
    "print \"Alpha pass\", alpha_pass(A, B, pi, Ob, return_all = True)\n",
    "print \"Beta pass\", beta_pass(A, B, pi, Ob, return_all = True)"
   ]
  },
  {
   "cell_type": "markdown",
   "metadata": {},
   "source": [
    "c)\n",
    "\n",
    "d) part a - ${N^T}{(N-1)}$\n",
    "\n",
    "   part b - ${N^2}{T}$\n",
    "\n",
    "\n",
    "\n"
   ]
  },
  {
   "cell_type": "markdown",
   "metadata": {},
   "source": [
    "Prob 2\n",
    "\n",
    "a) $P(O, X = CCH) = .0168$\n",
    "\n",
    "b) see below"
   ]
  },
  {
   "cell_type": "code",
   "execution_count": 5,
   "metadata": {
    "collapsed": false
   },
   "outputs": [
    {
     "name": "stdout",
     "output_type": "stream",
     "text": [
      "Problem 2 b) For observations MSL the most likely path will be CCH\n"
     ]
    }
   ],
   "source": [
    "def problem2(A, B, pi, Ob):\n",
    "    alpha, alpha_list = alpha_pass(A, B, pi, Ob, return_all = True)\n",
    "    beta, beta_list = beta_pass(A, B, pi, Ob, return_all = True)\n",
    "    \n",
    "    sequence = ''\n",
    "    states = ['H', 'C']\n",
    "    \n",
    "    for t in xrange(len(Ob)):\n",
    "        gamma = alpha_list[t] * beta_list[t]\n",
    "        i = np.argmax(gamma)\n",
    "        sequence += states[int(i)]\n",
    "        \n",
    "    observed_states = ['S', 'M', 'L']\n",
    "    observed_string = ''\n",
    "    for j in xrange(len(Ob)):\n",
    "        observed_string += observed_states[Ob[j]]\n",
    "    \n",
    "    print \"Problem 2 b) For observations \" + observed_string + \" the most likely path will be \" + sequence\n",
    "    \n",
    "problem2(A, B, pi, Ob)"
   ]
  },
  {
   "cell_type": "markdown",
   "metadata": {},
   "source": [
    "Prob 3"
   ]
  },
  {
   "cell_type": "code",
   "execution_count": 34,
   "metadata": {
    "collapsed": false
   },
   "outputs": [
    {
     "name": "stdout",
     "output_type": "stream",
     "text": [
      "Problem 3a \n",
      "\n",
      "Probability of (0, 0, 0, 0): \n",
      "0.0633472\n",
      "Probability of (0, 0, 0, 1): \n",
      "0.0408856\n",
      "Probability of (0, 0, 0, 2): \n",
      "0.0388472\n",
      "Probability of (0, 0, 1, 0): \n",
      "0.032368\n",
      "Probability of (0, 0, 1, 1): \n",
      "0.029008\n",
      "Probability of (0, 0, 1, 2): \n",
      "0.030464\n",
      "Probability of (0, 0, 2, 0): \n",
      "0.0277088\n",
      "Probability of (0, 0, 2, 1): \n",
      "0.0284984\n",
      "Probability of (0, 0, 2, 2): \n",
      "0.0308728\n",
      "Probability of (0, 1, 0, 0): \n",
      "0.030184\n",
      "Probability of (0, 1, 0, 1): \n",
      "0.020272\n",
      "Probability of (0, 1, 0, 2): \n",
      "0.019544\n",
      "Probability of (0, 1, 1, 0): \n",
      "0.020272\n",
      "Probability of (0, 1, 1, 1): \n",
      "0.019936\n",
      "Probability of (0, 1, 1, 2): \n",
      "0.021392\n",
      "Probability of (0, 1, 2, 0): \n",
      "0.019544\n",
      "Probability of (0, 1, 2, 1): \n",
      "0.021392\n",
      "Probability of (0, 1, 2, 2): \n",
      "0.023464\n",
      "Probability of (0, 2, 0, 0): \n",
      "0.0248528\n",
      "Probability of (0, 2, 0, 1): \n",
      "0.0170744\n",
      "Probability of (0, 2, 0, 2): \n",
      "0.0165928\n",
      "Probability of (0, 2, 1, 0): \n",
      "0.01904\n",
      "Probability of (0, 2, 1, 1): \n",
      "0.019376\n",
      "Probability of (0, 2, 1, 2): \n",
      "0.020944\n",
      "Probability of (0, 2, 2, 0): \n",
      "0.0191632\n",
      "Probability of (0, 2, 2, 1): \n",
      "0.0213976\n",
      "Probability of (0, 2, 2, 2): \n",
      "0.0235592\n",
      "Probability of (1, 0, 0, 0): \n",
      "0.0180992\n",
      "Probability of (1, 0, 0, 1): \n",
      "0.0116816\n",
      "Probability of (1, 0, 0, 2): \n",
      "0.0110992\n",
      "Probability of (1, 0, 1, 0): \n",
      "0.009248\n",
      "Probability of (1, 0, 1, 1): \n",
      "0.008288\n",
      "Probability of (1, 0, 1, 2): \n",
      "0.008704\n",
      "Probability of (1, 0, 2, 0): \n",
      "0.0079168\n",
      "Probability of (1, 0, 2, 1): \n",
      "0.0081424\n",
      "Probability of (1, 0, 2, 2): \n",
      "0.0088208\n",
      "Probability of (1, 1, 0, 0): \n",
      "0.008624\n",
      "Probability of (1, 1, 0, 1): \n",
      "0.005792\n",
      "Probability of (1, 1, 0, 2): \n",
      "0.005584\n",
      "Probability of (1, 1, 1, 0): \n",
      "0.005792\n",
      "Probability of (1, 1, 1, 1): \n",
      "0.005696\n",
      "Probability of (1, 1, 1, 2): \n",
      "0.006112\n",
      "Probability of (1, 1, 2, 0): \n",
      "0.005584\n",
      "Probability of (1, 1, 2, 1): \n",
      "0.006112\n",
      "Probability of (1, 1, 2, 2): \n",
      "0.006704\n",
      "Probability of (1, 2, 0, 0): \n",
      "0.0071008\n",
      "Probability of (1, 2, 0, 1): \n",
      "0.0048784\n",
      "Probability of (1, 2, 0, 2): \n",
      "0.0047408\n",
      "Probability of (1, 2, 1, 0): \n",
      "0.00544\n",
      "Probability of (1, 2, 1, 1): \n",
      "0.005536\n",
      "Probability of (1, 2, 1, 2): \n",
      "0.005984\n",
      "Probability of (1, 2, 2, 0): \n",
      "0.0054752\n",
      "Probability of (1, 2, 2, 1): \n",
      "0.0061136\n",
      "Probability of (1, 2, 2, 2): \n",
      "0.0067312\n",
      "Probability of (2, 0, 0, 0): \n",
      "0.0090496\n",
      "Probability of (2, 0, 0, 1): \n",
      "0.0058408\n",
      "Probability of (2, 0, 0, 2): \n",
      "0.0055496\n",
      "Probability of (2, 0, 1, 0): \n",
      "0.004624\n",
      "Probability of (2, 0, 1, 1): \n",
      "0.004144\n",
      "Probability of (2, 0, 1, 2): \n",
      "0.004352\n",
      "Probability of (2, 0, 2, 0): \n",
      "0.0039584\n",
      "Probability of (2, 0, 2, 1): \n",
      "0.0040712\n",
      "Probability of (2, 0, 2, 2): \n",
      "0.0044104\n",
      "Probability of (2, 1, 0, 0): \n",
      "0.004312\n",
      "Probability of (2, 1, 0, 1): \n",
      "0.002896\n",
      "Probability of (2, 1, 0, 2): \n",
      "0.002792\n",
      "Probability of (2, 1, 1, 0): \n",
      "0.002896\n",
      "Probability of (2, 1, 1, 1): \n",
      "0.002848\n",
      "Probability of (2, 1, 1, 2): \n",
      "0.003056\n",
      "Probability of (2, 1, 2, 0): \n",
      "0.002792\n",
      "Probability of (2, 1, 2, 1): \n",
      "0.003056\n",
      "Probability of (2, 1, 2, 2): \n",
      "0.003352\n",
      "Probability of (2, 2, 0, 0): \n",
      "0.0035504\n",
      "Probability of (2, 2, 0, 1): \n",
      "0.0024392\n",
      "Probability of (2, 2, 0, 2): \n",
      "0.0023704\n",
      "Probability of (2, 2, 1, 0): \n",
      "0.00272\n",
      "Probability of (2, 2, 1, 1): \n",
      "0.002768\n",
      "Probability of (2, 2, 1, 2): \n",
      "0.002992\n",
      "Probability of (2, 2, 2, 0): \n",
      "0.0027376\n",
      "Probability of (2, 2, 2, 1): \n",
      "0.0030568\n",
      "Probability of (2, 2, 2, 2): \n",
      "0.0033656\n",
      "\n",
      "Total 1.0\n",
      "None\n",
      "\n",
      "Problem 3b \n",
      "(array([ 0.0633472,  0.0408856,  0.0388472,  0.032368 ,  0.029008 ,\n",
      "        0.030464 ,  0.0277088,  0.0284984,  0.0308728,  0.030184 ,\n",
      "        0.020272 ,  0.019544 ,  0.020272 ,  0.019936 ,  0.021392 ,\n",
      "        0.019544 ,  0.021392 ,  0.023464 ,  0.0248528,  0.0170744,\n",
      "        0.0165928,  0.01904  ,  0.019376 ,  0.020944 ,  0.0191632,\n",
      "        0.0213976,  0.0235592,  0.0180992,  0.0116816,  0.0110992,\n",
      "        0.009248 ,  0.008288 ,  0.008704 ,  0.0079168,  0.0081424,\n",
      "        0.0088208,  0.008624 ,  0.005792 ,  0.005584 ,  0.005792 ,\n",
      "        0.005696 ,  0.006112 ,  0.005584 ,  0.006112 ,  0.006704 ,\n",
      "        0.0071008,  0.0048784,  0.0047408,  0.00544  ,  0.005536 ,\n",
      "        0.005984 ,  0.0054752,  0.0061136,  0.0067312,  0.0090496,\n",
      "        0.0058408,  0.0055496,  0.004624 ,  0.004144 ,  0.004352 ,\n",
      "        0.0039584,  0.0040712,  0.0044104,  0.004312 ,  0.002896 ,\n",
      "        0.002792 ,  0.002896 ,  0.002848 ,  0.003056 ,  0.002792 ,\n",
      "        0.003056 ,  0.003352 ,  0.0035504,  0.0024392,  0.0023704,\n",
      "        0.00272  ,  0.002768 ,  0.002992 ,  0.0027376,  0.0030568,\n",
      "        0.0033656]), 1.0)\n"
     ]
    }
   ],
   "source": [
    "def problem3a(A, B, pi, Ob):\n",
    "    total = 0\n",
    "    \n",
    "    for i in it.product(xrange(3), repeat = 4):\n",
    "        probabilities = initial(A, B, pi, i)\n",
    "        print \"Probability of \" + str(i) + \": \"\n",
    "        total += probabilities[1]\n",
    "        print probabilities[1]\n",
    "    print \"\\nTotal\", total\n",
    "\n",
    "def problem3b(A, B, pi, Ob):\n",
    "    probabilities = np.zeros(81)\n",
    "    count = 0\n",
    "    \n",
    "    for i in it.product(xrange(3), repeat = 4):\n",
    "        alpha, alpha_list = alpha_pass(A, B, pi, i, return_all = True)\n",
    "        probabilities[count] = alpha_list[-1].sum()\n",
    "        count += 1\n",
    "    return probabilities, np.sum(probabilities)\n",
    "\n",
    "print \"Problem 3a \\n\\n\", problem3a(A, B, pi, Ob)\n",
    "print \"\\nProblem 3b \\n\", problem3b(A, B, pi, Ob)"
   ]
  },
  {
   "cell_type": "markdown",
   "metadata": {},
   "source": [
    "Prob 4\n",
    "\n",
    "$(9)$\n",
    "\n",
    "For $i = 0, 1, ... , N - 1$ and $\\pi_i = \\gamma_0(i)$\n",
    "\n",
    "$\\pi_i = \\alpha_0(i)\\beta_0(i) / P(O|X)$\n",
    "\n",
    "$(10)$\n",
    "\n",
    "For $i = 0, 1, ... , N - 1$ and $j = 0, 1, ... , N - 1$\n",
    "\n",
    "$a_{ij} = \\sum\\limits_{t=0}^{T-2} \\gamma_t(i, j) / \\sum\\limits_{t=0}^{T-2} \\gamma_t(i)$\n",
    "\n",
    "$\\implies a_{ij} = \\sum\\limits_{t=0}^{T-2} \\alpha_t(i)a_{ij}b_j(O_{t+1})\\beta_{t+1}(j) / \\sum\\limits_{t=0}^{T-2}\\alpha_0(i)\\beta_0(i) / P(O|X)$\n",
    "\n",
    "$\\implies  a_{ij} = \\sum\\limits_{t=0}^{T-2} \\alpha_t(i)a_{ij}b_j(O_{t+1})\\beta_{t+1}(j) / \\sum\\limits_{t=0}^{T-2} \\alpha_t(i)\\beta_t(i)$\n",
    "\n",
    "$(11)$\n",
    "\n",
    "For $j = 0, 1, ... , N - 1$ and $k = 0, 1, ... , N - 1$\n",
    "\n",
    "$b_j(k) = \\sum\\nolimits_{t \\in 0, 1, ..., T-1; O_t = k} \\gamma_t(i) / \\sum\\limits_{t=0}^{T-1} \\gamma_t(i)$\n",
    "\n",
    "$\\implies b_j(k) = \\sum\\nolimits_{t \\in 0, 1, ..., T-1; O_t = k} \\alpha_t(i)\\beta_t(i) / P(O |X) / \\sum\\limits_{t=0}^{T-1} \\alpha_t(i)\\beta_t(i) / P(O|X)$\n",
    "\n",
    "$\\implies b_j(k) = \\sum\\nolimits_{t \\in 0, 1, ..., T-1; O_t = k} \\alpha_t(i)\\beta_t(i) / \\sum\\limits_{t=0}^{T-1} \\alpha_t(i)\\beta_t(i)$"
   ]
  },
  {
   "cell_type": "markdown",
   "metadata": {},
   "source": [
    "Prob 9"
   ]
  },
  {
   "cell_type": "code",
   "execution_count": 30,
   "metadata": {
    "collapsed": false
   },
   "outputs": [
    {
     "name": "stdout",
     "output_type": "stream",
     "text": [
      "(array([ 0.04593065,  0.95406935]), array([[  9.14020604e-01,   1.88018007e+01],\n",
      "       [  4.13953255e-03,   9.47753819e-02]]), array([1, 1, 0, 0, 0, 1, 0, 0, 0, 1, 0, 0, 0, 0, 0, 1, 0, 0, 0, 0, 0, 1, 0,\n",
      "       0, 0, 0, 0]))\n"
     ]
    }
   ],
   "source": [
    "def scale_alpha(A, B, pi, Ob):\n",
    "    T = len(Ob)\n",
    "    N = len(pi)\n",
    "    c = np.zeros(T)\n",
    "\n",
    "    alpha = np.zeros((T, N))\n",
    "    alpha[0]  = pi * B[Ob[0]]\n",
    "    c[0] = 1. / alpha[0].sum()\n",
    "    alpha[0] *= c[0]\n",
    "\n",
    "    for t in xrange(1, T):\n",
    "        alpha[t] = np.dot(A.T, alpha[t - 1]) * B[Ob[t]]\n",
    "        c[t] = 1. / alpha[t].sum()\n",
    "        alpha[t] *= c[t]\n",
    "\n",
    "    return alpha, c\n",
    "\n",
    "def scale_beta(A, B, pi, Ob, c):\n",
    "    T = len(Ob)\n",
    "    N = len(pi)\n",
    "    d = c\n",
    "\n",
    "    beta = np.zeros((T, N))\n",
    "    beta[-1] = np.ones(N)\n",
    "    d[-1] = 1. / beta[-1].sum()\n",
    "    beta[-1] *= d[-1]\n",
    "\n",
    "    for t in range(0, T - 1)[::-1]:\n",
    "        beta[t] = np.dot(A.T, beta[t + 1] * B[Ob[t + 1]])\n",
    "        d[t] = 1. / beta[t].sum()\n",
    "        beta[t] *= d[t]\n",
    "\n",
    "    return beta\n",
    "\n",
    "def stoch(S, M):\n",
    "    A = np.random.rand(S, S)\n",
    "    A /= np.hstack(A.sum(axis = 0))\n",
    "    \n",
    "    B = np.random.rand(M, S)\n",
    "    B /= np.hstack(B.sum(axis = 0))\n",
    "\n",
    "    pi = np.random.rand(S)\n",
    "    pi /= pi.sum()\n",
    "\n",
    "    return A, B, pi\n",
    "\n",
    "def clean(datafile):\n",
    "    f = open(datafile)\n",
    "    data = f.read()[:50000]\n",
    "    Ob = list(data)\n",
    "    T = len(Ob)\n",
    "    i = 0\n",
    "\n",
    "    while i != T:\n",
    "        pos = ord(Ob[i])\n",
    "        if pos == 32:\n",
    "            Ob[i] = 0\n",
    "\n",
    "        elif pos >= 65 and pos <= 90:\n",
    "            Ob[i] = pos - 64\n",
    "\n",
    "        elif pos >= 97 and pos <= 122:\n",
    "            Ob[i] = pos - 96\n",
    "\n",
    "        else:\n",
    "            del Ob[i]\n",
    "            T -= 1\n",
    "            i -= 1\n",
    "        i += 1\n",
    "    return Ob, T\n",
    "\n",
    "\n",
    "def prob9(datafile, S, maxiters = 10):\n",
    "    M = 27\n",
    "    iters = 0\n",
    "    O, T = clean(datafile)\n",
    "    A,B,pi = stoch(S,M)\n",
    "    logprob = -np.inf\n",
    "    oldLogProb = -np.inf\n",
    "    diff = 1\n",
    "    while(iters < maxiters and diff > 0):\n",
    "        alpha, c = scale_alpha(A,B,pi,O)\n",
    "        beta = scale_beta(A,B,pi,O,c)\n",
    "\n",
    "        dig = np.zeros((T,S,S))\n",
    "        gamma = np.zeros((T,S))\n",
    "        for t in xrange(T-1):\n",
    "            for i in xrange(S):\n",
    "                for j in xrange(S):\n",
    "                    dig[t,i,j] = alpha[t,i]*A[j,i]*B[O[t+1],j]*beta[t+1,j]\n",
    "            dig[t] = dig[t]/dig[t].sum()\n",
    "\n",
    "        gamma = dig.sum(axis =1)\n",
    "        pi = gamma[0]\n",
    "        for i in range(S):\n",
    "            for j in range(S):\n",
    "                A[i,j] = dig[:,i,j].sum()/gamma[:,i].sum()\n",
    "        for i in range(S):\n",
    "            for j in range(M):\n",
    "                numer = 0\n",
    "                for t in range(T):\n",
    "                    if O[t] == j : numer += gamma[t,i]\n",
    "                denom = gamma[:,i].sum()\n",
    "                B[j,i] = numer/denom\n",
    "        oldLogProb = logprob\n",
    "\n",
    "        logprob = -c.sum()\n",
    "        dif = logprob*oldLogProb\n",
    "        iters +=1\n",
    "    return pi, A, B.argmax(axis=1)\n",
    "\n",
    "datafile = 'brown.txt'\n",
    "print prob9(datafile,2,10)"
   ]
  },
  {
   "cell_type": "code",
   "execution_count": 33,
   "metadata": {
    "collapsed": false
   },
   "outputs": [
    {
     "name": "stdout",
     "output_type": "stream",
     "text": [
      "(array([  9.99981737e-01,   2.44246039e-06,   1.40139741e-05,\n",
      "         1.80649194e-06]), array([[  9.35871817e-01,   5.32527873e-06,   1.54289192e-05,\n",
      "          1.76711699e-06],\n",
      "       [  1.57333069e-05,   1.27218812e-10,   3.09494156e-09,\n",
      "          3.86891073e-10],\n",
      "       [  9.69966649e-04,   6.91533188e-08,   1.69461679e-07,\n",
      "          1.31195799e-08],\n",
      "       [  3.55962999e+04,   3.70408547e-01,   7.11622599e-02,\n",
      "          1.91075829e-02]]), array([0, 3, 0, 0, 0, 1, 0, 3, 0, 3, 0, 0, 0, 0, 0, 3, 0, 0, 0, 0, 3, 3, 0,\n",
      "       0, 0, 0, 0]))\n"
     ]
    }
   ],
   "source": [
    "print prob9(datafile,4,10)"
   ]
  },
  {
   "cell_type": "markdown",
   "metadata": {},
   "source": [
    "Prob 10"
   ]
  },
  {
   "cell_type": "code",
   "execution_count": null,
   "metadata": {
    "collapsed": true
   },
   "outputs": [],
   "source": [
    "datafile = 'ciphertext.txt'\n"
   ]
  }
 ],
 "metadata": {
  "kernelspec": {
   "display_name": "Python 2",
   "language": "python",
   "name": "python2"
  },
  "language_info": {
   "codemirror_mode": {
    "name": "ipython",
    "version": 2
   },
   "file_extension": ".py",
   "mimetype": "text/x-python",
   "name": "python",
   "nbconvert_exporter": "python",
   "pygments_lexer": "ipython2",
   "version": "2.7.11"
  }
 },
 "nbformat": 4,
 "nbformat_minor": 0
}
