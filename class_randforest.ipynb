{
 "cells": [
  {
   "cell_type": "markdown",
   "metadata": {},
   "source": [
    "## Classification Trees and Random Forests"
   ]
  },
  {
   "cell_type": "markdown",
   "metadata": {},
   "source": [
    "### Classification Trees"
   ]
  },
  {
   "cell_type": "code",
   "execution_count": 1,
   "metadata": {
    "collapsed": true
   },
   "outputs": [],
   "source": [
    "from __future__ import division\n",
    "from scipy.stats import mode\n",
    "import pandas as pd\n",
    "import numpy as np"
   ]
  },
  {
   "cell_type": "markdown",
   "metadata": {},
   "source": [
    "#### Problem 1"
   ]
  },
  {
   "cell_type": "code",
   "execution_count": 2,
   "metadata": {
    "collapsed": true
   },
   "outputs": [],
   "source": [
    "def gini(labels):\n",
    "    return 1 - np.sum((np.bincount(labels)/len(labels))**2)"
   ]
  },
  {
   "cell_type": "markdown",
   "metadata": {},
   "source": [
    "#### Problem 2"
   ]
  },
  {
   "cell_type": "code",
   "execution_count": 3,
   "metadata": {
    "collapsed": true
   },
   "outputs": [],
   "source": [
    "def split(D, L, p, x):\n",
    "    d1, d2 = D[:,p]<=x, D[:,p]>x\n",
    "    return D[d1], L[d1], D[d2], L[d2]"
   ]
  },
  {
   "cell_type": "markdown",
   "metadata": {},
   "source": [
    "#### Problem 3"
   ]
  },
  {
   "cell_type": "code",
   "execution_count": 4,
   "metadata": {
    "collapsed": true
   },
   "outputs": [],
   "source": [
    "def info_gain(D, L, p, x):\n",
    "    _, L1, _, L2 = split(D, L, p, x)\n",
    "    return gini(L) - (len(L1)*gini(L1) + len(L2)*gini(L2))/len(L)"
   ]
  },
  {
   "cell_type": "markdown",
   "metadata": {},
   "source": [
    "#### Problem 4"
   ]
  },
  {
   "cell_type": "code",
   "execution_count": 5,
   "metadata": {
    "collapsed": true
   },
   "outputs": [],
   "source": [
    "def best_split(D, L):\n",
    "    best, best_loc = 0, None\n",
    "    for p in xrange(D.shape[1]):\n",
    "        vals = set(D[:,p])\n",
    "        for x in vals:\n",
    "            curr = info_gain(D, L, p, x)\n",
    "            if best <= curr:\n",
    "                best = curr\n",
    "                best_loc = (p,x)\n",
    "    return best_loc"
   ]
  },
  {
   "cell_type": "markdown",
   "metadata": {},
   "source": [
    "#### Problems 5, 6, 7"
   ]
  },
  {
   "cell_type": "code",
   "execution_count": 9,
   "metadata": {
    "collapsed": true
   },
   "outputs": [],
   "source": [
    "class Node(object):\n",
    "    \n",
    "    def __init__(self, tree, D, L, depth, max_depth, tol):\n",
    "        tree.nodes.append(self)\n",
    "        self.depth = depth\n",
    "        self.score = gini(L)\n",
    "        \n",
    "        if self.depth >= max_depth or self.score < tol:\n",
    "            self.label = np.argmax(np.bincount(L)) if len(L) != 0 else None\n",
    "            self.leaf = True\n",
    "        else:\n",
    "            self.p, self.x = best_split(D, L)\n",
    "            D1, L1, D2, L2 = split(D, L, self.p, self.x)\n",
    "            self.left = Node(tree, D1, L1, depth+1, max_depth, tol)\n",
    "            self.right = Node(tree, D2, L2, depth+1, max_depth, tol)\n",
    "            self.leaf = False\n",
    "    \n",
    "    def predict(self, sample):\n",
    "        if self.leaf:\n",
    "            return self.label\n",
    "        elif sample[self.p] <= self.x:\n",
    "            return self.left.predict(sample)\n",
    "        else:\n",
    "            return self.right.predict(sample)\n",
    "    def __str__(self):\n",
    "        out = \"Leaf Node,\" if self.leaf else \"Parent Node,\"\n",
    "        out += \" Gini: {},\".format(self.score)\n",
    "        out += \" Depth: {},\".format(self.depth)\n",
    "        if self.leaf:\n",
    "            out += \" Label: {},\".format(self.label)\n",
    "        else:\n",
    "            out += \" split index (p): {},\".format(self.p)\n",
    "            out += \" split threshold (x): {},\".format(self.x)\n",
    "        return out\n",
    "\n",
    "class ClassificationTree(object):\n",
    "    \n",
    "    def __init__(self, D, L, max_depth=10, tol=.2):\n",
    "        self.max_depth = max_depth\n",
    "        self.nodes = []\n",
    "        self.root = Node(self, D, L, 1, max_depth, tol)\n",
    "\n",
    "    def accuracy(self, data, labels):\n",
    "        return 100*np.mean(self.classify(data) == labels)\n",
    "    \n",
    "    def classify(self, data):\n",
    "        return np.array([self.predict(d) for d in data])\n",
    "    \n",
    "    def predict(self, sample):\n",
    "        return self.root.predict(sample)\n",
    "    \n",
    "    def __str__(self):\n",
    "        return \"\\n\\n\".join([str(node) for node in self.nodes])"
   ]
  },
  {
   "cell_type": "code",
   "execution_count": 10,
   "metadata": {
    "collapsed": true
   },
   "outputs": [],
   "source": [
    "def process_titanic_data(filename=\"titanic.csv\", pclass_change=False):\n",
    "    data = pd.read_csv(filename)\n",
    "    data = data[[\"Survived\", \"Pclass\", \"Sex\", \"Age\"]]\n",
    "    data.dropna(inplace=True)\n",
    "    data.loc[data.Sex==\"female\", \"Sex\"] = 0.\n",
    "    data.loc[data.Sex==\"male\", \"Sex\"] = 1.\n",
    "    \n",
    "    if pclass_change is True:\n",
    "        pclass = data[\"Pclass\"]\n",
    "        data[\"SecondClass\"] = [1 if 2==pclass[i] else 0 for i in pclass.index]\n",
    "        data[\"FirstClass\"] = [1 if 1==pclass[i] else 0 for i in pclass.index]\n",
    "        data.drop(\"Pclass\", axis=1, inplace=True)\n",
    "    \n",
    "    test_index = sorted(np.random.choice(data.index, int(len(data.index)*.4), replace=False))\n",
    "    train_index = [i for i in data.index if i not in test_index]\n",
    "    \n",
    "    return data.loc[train_index], data.loc[test_index]"
   ]
  },
  {
   "cell_type": "code",
   "execution_count": 11,
   "metadata": {
    "collapsed": false
   },
   "outputs": [
    {
     "name": "stdout",
     "output_type": "stream",
     "text": [
      "Parent Node, Gini: 0.490182157491, Depth: 1, split index (p): 1, split threshold (x): 0.0,\n",
      "\n",
      "Parent Node, Gini: 0.381223077466, Depth: 2, split index (p): 0, split threshold (x): 2.0,\n",
      "\n",
      "Parent Node, Gini: 0.141107253086, Depth: 3, split index (p): 0, split threshold (x): 1.0,\n",
      "\n",
      "Leaf Node, Gini: 0.0505987518975, Depth: 4, Label: 1,\n",
      "\n",
      "Parent Node, Gini: 0.23256850078, Depth: 4, split index (p): 2, split threshold (x): 50.0,\n",
      "\n",
      "Parent Node, Gini: 0.213039485767, Depth: 5, split index (p): 2, split threshold (x): 17.0,\n",
      "\n",
      "Leaf Node, Gini: 0.0, Depth: 6, Label: 1,\n",
      "\n",
      "Parent Node, Gini: 0.260355029586, Depth: 6, split index (p): 2, split threshold (x): 44.0,\n",
      "\n",
      "Parent Node, Gini: 0.292345679012, Depth: 7, split index (p): 2, split threshold (x): 42.0,\n",
      "\n",
      "Leaf Node, Gini: 0.267561983471, Depth: 8, Label: 1,\n",
      "\n",
      "Leaf Node, Gini: 0.0, Depth: 8, Label: 0,\n",
      "\n",
      "Leaf Node, Gini: 0.0, Depth: 7, Label: 1,\n",
      "\n",
      "Leaf Node, Gini: 0.0, Depth: 5, Label: 0,\n",
      "\n",
      "Parent Node, Gini: 0.497962879131, Depth: 3, split index (p): 2, split threshold (x): 24.0,\n",
      "\n",
      "Parent Node, Gini: 0.495867768595, Depth: 4, split index (p): 2, split threshold (x): 10.0,\n",
      "\n",
      "Parent Node, Gini: 0.455, Depth: 5, split index (p): 2, split threshold (x): 0.75,\n",
      "\n",
      "Leaf Node, Gini: 0.0, Depth: 6, Label: 1,\n",
      "\n",
      "Parent Node, Gini: 0.401234567901, Depth: 6, split index (p): 2, split threshold (x): 5.0,\n",
      "\n",
      "Parent Node, Gini: 0.48, Depth: 7, split index (p): 2, split threshold (x): 3.0,\n",
      "\n",
      "Leaf Node, Gini: 0.244897959184, Depth: 8, Label: 0,\n",
      "\n",
      "Leaf Node, Gini: 0.0, Depth: 8, Label: 1,\n",
      "\n",
      "Parent Node, Gini: 0.21875, Depth: 7, split index (p): 2, split threshold (x): 9.0,\n",
      "\n",
      "Leaf Node, Gini: 0.277777777778, Depth: 8, Label: 0,\n",
      "\n",
      "Leaf Node, Gini: 0.0, Depth: 8, Label: 0,\n",
      "\n",
      "Parent Node, Gini: 0.450612244898, Depth: 5, split index (p): 2, split threshold (x): 19.0,\n",
      "\n",
      "Parent Node, Gini: 0.132653061224, Depth: 6, split index (p): 2, split threshold (x): 17.0,\n",
      "\n",
      "Leaf Node, Gini: 0.0, Depth: 7, Label: 1,\n",
      "\n",
      "Parent Node, Gini: 0.244897959184, Depth: 7, split index (p): 2, split threshold (x): 18.0,\n",
      "\n",
      "Leaf Node, Gini: 0.277777777778, Depth: 8, Label: 1,\n",
      "\n",
      "Leaf Node, Gini: 0.0, Depth: 8, Label: 1,\n",
      "\n",
      "Parent Node, Gini: 0.498866213152, Depth: 6, split index (p): 2, split threshold (x): 21.0,\n",
      "\n",
      "Parent Node, Gini: 0.277777777778, Depth: 7, split index (p): 2, split threshold (x): 20.0,\n",
      "\n",
      "Leaf Node, Gini: 0.0, Depth: 8, Label: 0,\n",
      "\n",
      "Leaf Node, Gini: 0.375, Depth: 8, Label: 0,\n",
      "\n",
      "Parent Node, Gini: 0.48, Depth: 7, split index (p): 2, split threshold (x): 23.0,\n",
      "\n",
      "Leaf Node, Gini: 0.486111111111, Depth: 8, Label: 1,\n",
      "\n",
      "Leaf Node, Gini: 0.444444444444, Depth: 8, Label: 1,\n",
      "\n",
      "Parent Node, Gini: 0.460223537147, Depth: 4, split index (p): 2, split threshold (x): 32.0,\n",
      "\n",
      "Parent Node, Gini: 0.362811791383, Depth: 5, split index (p): 2, split threshold (x): 25.0,\n",
      "\n",
      "Leaf Node, Gini: 0.0, Depth: 6, Label: 0,\n",
      "\n",
      "Parent Node, Gini: 0.387811634349, Depth: 6, split index (p): 2, split threshold (x): 26.0,\n",
      "\n",
      "Parent Node, Gini: 0.5, Depth: 7, split index (p): 2, split threshold (x): 26.0,\n",
      "\n",
      "Leaf Node, Gini: 0.5, Depth: 8, Label: 0,\n",
      "\n",
      "Leaf Node, Gini: 1.0, Depth: 8, Label: None,\n",
      "\n",
      "Parent Node, Gini: 0.32, Depth: 7, split index (p): 2, split threshold (x): 28.0,\n",
      "\n",
      "Leaf Node, Gini: 0.0, Depth: 8, Label: 0,\n",
      "\n",
      "Leaf Node, Gini: 0.375, Depth: 8, Label: 0,\n",
      "\n",
      "Parent Node, Gini: 0.5, Depth: 5, split index (p): 2, split threshold (x): 38.0,\n",
      "\n",
      "Parent Node, Gini: 0.408163265306, Depth: 6, split index (p): 2, split threshold (x): 37.0,\n",
      "\n",
      "Parent Node, Gini: 0.48, Depth: 7, split index (p): 2, split threshold (x): 36.0,\n",
      "\n",
      "Leaf Node, Gini: 0.375, Depth: 8, Label: 1,\n",
      "\n",
      "Leaf Node, Gini: 0.0, Depth: 8, Label: 0,\n",
      "\n",
      "Leaf Node, Gini: 0.0, Depth: 7, Label: 1,\n",
      "\n",
      "Parent Node, Gini: 0.462809917355, Depth: 6, split index (p): 2, split threshold (x): 41.0,\n",
      "\n",
      "Leaf Node, Gini: 0.0, Depth: 7, Label: 0,\n",
      "\n",
      "Parent Node, Gini: 0.5, Depth: 7, split index (p): 2, split threshold (x): 48.0,\n",
      "\n",
      "Leaf Node, Gini: 0.489795918367, Depth: 8, Label: 0,\n",
      "\n",
      "Leaf Node, Gini: 0.0, Depth: 8, Label: 1,\n",
      "\n",
      "Parent Node, Gini: 0.363195266272, Depth: 2, split index (p): 2, split threshold (x): 13.0,\n",
      "\n",
      "Parent Node, Gini: 0.488521579431, Depth: 3, split index (p): 0, split threshold (x): 2.0,\n",
      "\n",
      "Leaf Node, Gini: 0.0, Depth: 4, Label: 1,\n",
      "\n",
      "Parent Node, Gini: 0.444444444444, Depth: 4, split index (p): 2, split threshold (x): 2.0,\n",
      "\n",
      "Parent Node, Gini: 0.244897959184, Depth: 5, split index (p): 2, split threshold (x): 0.8333,\n",
      "\n",
      "Parent Node, Gini: 0.5, Depth: 6, split index (p): 2, split threshold (x): 0.3333,\n",
      "\n",
      "Leaf Node, Gini: 0.0, Depth: 7, Label: 0,\n",
      "\n",
      "Leaf Node, Gini: 0.0, Depth: 7, Label: 1,\n",
      "\n",
      "Leaf Node, Gini: 0.0, Depth: 6, Label: 0,\n",
      "\n",
      "Parent Node, Gini: 0.489795918367, Depth: 5, split index (p): 2, split threshold (x): 3.0,\n",
      "\n",
      "Leaf Node, Gini: 0.0, Depth: 6, Label: 1,\n",
      "\n",
      "Parent Node, Gini: 0.473372781065, Depth: 6, split index (p): 2, split threshold (x): 4.0,\n",
      "\n",
      "Leaf Node, Gini: 0.0, Depth: 7, Label: 0,\n",
      "\n",
      "Parent Node, Gini: 0.495867768595, Depth: 7, split index (p): 2, split threshold (x): 6.0,\n",
      "\n",
      "Leaf Node, Gini: 0.0, Depth: 8, Label: 1,\n",
      "\n",
      "Leaf Node, Gini: 0.48, Depth: 8, Label: 0,\n",
      "\n",
      "Parent Node, Gini: 0.32863341415, Depth: 3, split index (p): 0, split threshold (x): 1.0,\n",
      "\n",
      "Parent Node, Gini: 0.45138166262, Depth: 4, split index (p): 2, split threshold (x): 54.0,\n",
      "\n",
      "Parent Node, Gini: 0.48, Depth: 5, split index (p): 2, split threshold (x): 47.0,\n",
      "\n",
      "Parent Node, Gini: 0.444444444444, Depth: 6, split index (p): 2, split threshold (x): 45.0,\n",
      "\n",
      "Parent Node, Gini: 0.467512495194, Depth: 7, split index (p): 2, split threshold (x): 25.0,\n",
      "\n",
      "Leaf Node, Gini: 0.297520661157, Depth: 8, Label: 0,\n",
      "\n",
      "Leaf Node, Gini: 0.48875, Depth: 8, Label: 0,\n",
      "\n",
      "Leaf Node, Gini: 0.0, Depth: 7, Label: 0,\n",
      "\n",
      "Parent Node, Gini: 0.475308641975, Depth: 6, split index (p): 2, split threshold (x): 48.0,\n",
      "\n",
      "Leaf Node, Gini: 0.0, Depth: 7, Label: 1,\n",
      "\n",
      "Parent Node, Gini: 0.497777777778, Depth: 7, split index (p): 2, split threshold (x): 50.0,\n",
      "\n",
      "Leaf Node, Gini: 0.46875, Depth: 8, Label: 0,\n",
      "\n",
      "Leaf Node, Gini: 0.408163265306, Depth: 8, Label: 1,\n",
      "\n",
      "Parent Node, Gini: 0.197530864198, Depth: 5, split index (p): 2, split threshold (x): 60.0,\n",
      "\n",
      "Parent Node, Gini: 0.345679012346, Depth: 6, split index (p): 2, split threshold (x): 58.0,\n",
      "\n",
      "Parent Node, Gini: 0.244897959184, Depth: 7, split index (p): 2, split threshold (x): 55.0,\n",
      "\n",
      "Leaf Node, Gini: 0.0, Depth: 8, Label: 0,\n",
      "\n",
      "Leaf Node, Gini: 0.32, Depth: 8, Label: 0,\n",
      "\n",
      "Parent Node, Gini: 0.5, Depth: 7, split index (p): 2, split threshold (x): 60.0,\n",
      "\n",
      "Leaf Node, Gini: 0.5, Depth: 8, Label: 0,\n",
      "\n",
      "Leaf Node, Gini: 1.0, Depth: 8, Label: None,\n",
      "\n",
      "Leaf Node, Gini: 0.0, Depth: 6, Label: 0,\n",
      "\n",
      "Parent Node, Gini: 0.267561983471, Depth: 4, split index (p): 2, split threshold (x): 32.0,\n",
      "\n",
      "Parent Node, Gini: 0.3371955696, Depth: 5, split index (p): 2, split threshold (x): 30.0,\n",
      "\n",
      "Parent Node, Gini: 0.296024973985, Depth: 6, split index (p): 0, split threshold (x): 2.0,\n",
      "\n",
      "Parent Node, Gini: 0.145429362881, Depth: 7, split index (p): 2, split threshold (x): 20.0,\n",
      "\n",
      "Leaf Node, Gini: 0.32, Depth: 8, Label: 0,\n",
      "\n",
      "Leaf Node, Gini: 0.0688775510204, Depth: 8, Label: 0,\n",
      "\n",
      "Parent Node, Gini: 0.336036233472, Depth: 7, split index (p): 2, split threshold (x): 19.0,\n",
      "\n",
      "Leaf Node, Gini: 0.152777777778, Depth: 8, Label: 0,\n",
      "\n",
      "Leaf Node, Gini: 0.372297375419, Depth: 8, Label: 0,\n",
      "\n",
      "Parent Node, Gini: 0.495867768595, Depth: 6, split index (p): 2, split threshold (x): 31.0,\n",
      "\n",
      "Parent Node, Gini: 0.444444444444, Depth: 7, split index (p): 0, split threshold (x): 2.0,\n",
      "\n",
      "Leaf Node, Gini: 0.5, Depth: 8, Label: 0,\n",
      "\n",
      "Leaf Node, Gini: 0.375, Depth: 8, Label: 0,\n",
      "\n",
      "Parent Node, Gini: 0.5, Depth: 7, split index (p): 0, split threshold (x): 2.0,\n",
      "\n",
      "Leaf Node, Gini: 0.375, Depth: 8, Label: 0,\n",
      "\n",
      "Leaf Node, Gini: 0.486111111111, Depth: 8, Label: 1,\n",
      "\n",
      "Leaf Node, Gini: 0.0877262518166, Depth: 5, Label: 0,\n",
      "\n",
      "81.3397129187% Correct\n"
     ]
    }
   ],
   "source": [
    "training, testing = process_titanic_data()\n",
    "\n",
    "test_data = np.array(testing.drop(\"Survived\", axis=1), dtype=np.float)\n",
    "test_labels = np.array(testing[\"Survived\"], dtype=np.int64)\n",
    "train_data = np.array(training.drop(\"Survived\", axis=1), dtype=np.float)\n",
    "train_labels = np.array(training[\"Survived\"], np.int64)\n",
    "\n",
    "tree = ClassificationTree(train_data, train_labels, max_depth=8, tol=.1)\n",
    "print(tree)\n",
    "\n",
    "print \"\\n{}% Correct\".format(tree.accuracy(test_data, test_labels))"
   ]
  },
  {
   "cell_type": "markdown",
   "metadata": {},
   "source": [
    "### Random Forests"
   ]
  },
  {
   "cell_type": "markdown",
   "metadata": {},
   "source": [
    "#### Problem 1, 2"
   ]
  },
  {
   "cell_type": "code",
   "execution_count": 12,
   "metadata": {
    "collapsed": true
   },
   "outputs": [],
   "source": [
    "class ForestNode(object):\n",
    "    \n",
    "    def __init__(self, D, L, features, depth, max_features, max_depth, tol):\n",
    "        self.depth = depth\n",
    "        self.score = gini(L)\n",
    "        \n",
    "        # Base Case: max depth or impurity tolerance reached.\n",
    "        if self.depth >= max_depth or self.score < tol or len(features) < max_features:\n",
    "            self.label = mode(L)[0][0] if len(L) != 0 else -1\n",
    "            self.leaf = True\n",
    "        \n",
    "        # Recursive case: split the data.\n",
    "        else:\n",
    "            self.p, self.x = self._best_split(D, L, features)\n",
    "            D1, L1, D2, L2 = split(D, L, self.p, self.x)\n",
    "            if len(set(D1[:,self.p])) == 1 or len(set(D2[:,self.p])) == 1:\n",
    "                features.remove(self.p)\n",
    "            \n",
    "            self.left = ForestNode(D1, L1, features, depth+1, max_features, max_depth, tol)\n",
    "            self.right = ForestNode(D2, L2, features, depth+1, max_features, max_depth, tol)\n",
    "            self.leaf = False\n",
    "    \n",
    "    @staticmethod\n",
    "    def _best_split(D, L, pvalues):\n",
    "        best, best_loc = 0, None\n",
    "        for p in pvalues:\n",
    "            vals = set(D[:,p])\n",
    "            for x in vals:\n",
    "                curr = info_gain(D, L, p, x)\n",
    "                if best <= curr:\n",
    "                    best = curr\n",
    "                    best_loc = (p,x)\n",
    "        return best_loc\n",
    "    \n",
    "    def predict(self, sample):\n",
    "        if self.leaf:\n",
    "            return self.label\n",
    "        elif sample[self.p] <= self.x:\n",
    "            return self.left.predict(sample)\n",
    "        else:\n",
    "            return self.right.predict(sample)\n",
    "\n",
    "class ForestTree(object):\n",
    "    \n",
    "    def __init__(self, D, L, features, max_depth=10, tol=.2):\n",
    "        self.root = ForestNode(D, L, features, 1, len(features), max_depth, tol)\n",
    "    \n",
    "    def predict(self, sample):\n",
    "        return self.root.predict(sample)"
   ]
  },
  {
   "cell_type": "markdown",
   "metadata": {},
   "source": [
    "#### Problem 3, 4"
   ]
  },
  {
   "cell_type": "code",
   "execution_count": 13,
   "metadata": {
    "collapsed": true
   },
   "outputs": [],
   "source": [
    "class RandomForest(object):\n",
    "    \n",
    "    def __init__(self, D, L, num_trees, num_features, max_depth, tol):\n",
    "        self.trees = []\n",
    "        for i in xrange(num_trees):\n",
    "            features = sorted(list(np.random.choice(np.arange(D.shape[1]), num_features, replace=False)))\n",
    "            self.trees.append(ForestTree(D, L, features, max_depth, tol))\n",
    "    \n",
    "    def accuracy(self, data, labels):\n",
    "        return 100*np.mean(self.classify(data) == labels)\n",
    "    \n",
    "    def classify(self, data):\n",
    "        return np.array([self.predict(d) for d in data])\n",
    "    \n",
    "    def predict(self, sample):\n",
    "        return mode([t.predict(sample) for t in self.trees])[0][0]"
   ]
  },
  {
   "cell_type": "markdown",
   "metadata": {},
   "source": [
    "#### Problem 5"
   ]
  },
  {
   "cell_type": "code",
   "execution_count": 14,
   "metadata": {
    "collapsed": false
   },
   "outputs": [
    {
     "name": "stdout",
     "output_type": "stream",
     "text": [
      "74.1626794258% Correct\n"
     ]
    }
   ],
   "source": [
    "training, testing = process_titanic_data()\n",
    "test_data = np.array(testing.drop(\"Survived\", axis=1), dtype=np.float)\n",
    "test_labels = np.array(testing[\"Survived\"], dtype=np.int64)\n",
    "train_data = np.array(training.drop(\"Survived\", axis=1), dtype=np.float)\n",
    "train_labels = np.array(training[\"Survived\"], np.int64)\n",
    "tree = RandomForest(train_data, train_labels, 100, 2, 8, .1)\n",
    "\n",
    "print \"{}% Correct\".format(tree.accuracy(test_data, test_labels))"
   ]
  }
 ],
 "metadata": {
  "kernelspec": {
   "display_name": "Python 2",
   "language": "python",
   "name": "python2"
  },
  "language_info": {
   "codemirror_mode": {
    "name": "ipython",
    "version": 2
   },
   "file_extension": ".py",
   "mimetype": "text/x-python",
   "name": "python",
   "nbconvert_exporter": "python",
   "pygments_lexer": "ipython2",
   "version": "2.7.11"
  }
 },
 "nbformat": 4,
 "nbformat_minor": 0
}
